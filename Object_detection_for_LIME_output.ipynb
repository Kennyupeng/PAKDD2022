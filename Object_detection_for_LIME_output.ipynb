{
  "nbformat": 4,
  "nbformat_minor": 0,
  "metadata": {
    "colab": {
      "name": "Object_detection_for_LIME_output.ipynb",
      "provenance": [],
      "collapsed_sections": [],
      "toc_visible": true
    },
    "kernelspec": {
      "name": "python3",
      "display_name": "Python 3"
    },
    "language_info": {
      "name": "python"
    }
  },
  "cells": [
    {
      "cell_type": "markdown",
      "metadata": {
        "id": "Ho8YkIpxQGjT"
      },
      "source": [
        "# Object Detection for LIME explanation"
      ]
    },
    {
      "cell_type": "code",
      "metadata": {
        "colab": {
          "base_uri": "https://localhost:8080/"
        },
        "id": "96dEZHJEP95R",
        "outputId": "689629de-c0c7-46be-8468-340c353efb57"
      },
      "source": [
        "from google.colab import drive\n",
        "drive.mount('/content/drive', force_remount=True)"
      ],
      "execution_count": null,
      "outputs": [
        {
          "output_type": "stream",
          "name": "stdout",
          "text": [
            "Mounted at /content/drive\n"
          ]
        }
      ]
    },
    {
      "cell_type": "code",
      "metadata": {
        "id": "BQOFajgrnh4S"
      },
      "source": [
        ""
      ],
      "execution_count": null,
      "outputs": []
    },
    {
      "cell_type": "markdown",
      "metadata": {
        "id": "0Ablmn8fUASv"
      },
      "source": [
        "# Test YOLO - IGNORE THIS FOR NOW"
      ]
    },
    {
      "cell_type": "code",
      "metadata": {
        "id": "r1oPbmmByvFR"
      },
      "source": [
        "import tensorflow as tf\n",
        "import numpy as np\n",
        "from PIL import Image, ImageDraw, ImageFont\n",
        "from IPython.display import display\n",
        "from seaborn import color_palette\n",
        "import cv2"
      ],
      "execution_count": null,
      "outputs": []
    },
    {
      "cell_type": "code",
      "metadata": {
        "id": "BelTBScuXUpY"
      },
      "source": [
        "_BATCH_NORM_DECAY = 0.9\n",
        "_BATCH_NORM_EPSILON = 1e-05\n",
        "_LEAKY_RELU = 0.1\n",
        "_ANCHORS = [(10, 13), (16, 30), (33, 23),\n",
        "            (30, 61), (62, 45), (59, 119),\n",
        "            (116, 90), (156, 198), (373, 326)]\n",
        "_MODEL_SIZE = (416, 416)"
      ],
      "execution_count": null,
      "outputs": []
    },
    {
      "cell_type": "code",
      "metadata": {
        "id": "5hIqg4hkXWyU"
      },
      "source": [
        "def batch_norm(inputs, training, data_format):\n",
        "    \"\"\"Performs a batch normalization using a standard set of parameters.\"\"\"\n",
        "    return tf.layers.batch_normalization(\n",
        "        inputs=inputs, axis=1 if data_format == 'channels_first' else 3,\n",
        "        momentum=_BATCH_NORM_DECAY, epsilon=_BATCH_NORM_EPSILON,\n",
        "        scale=True, training=training)\n",
        "\n",
        "\n",
        "def fixed_padding(inputs, kernel_size, data_format):\n",
        "    \"\"\"ResNet implementation of fixed padding.\n",
        "\n",
        "    Pads the input along the spatial dimensions independently of input size.\n",
        "\n",
        "    Args:\n",
        "        inputs: Tensor input to be padded.\n",
        "        kernel_size: The kernel to be used in the conv2d or max_pool2d.\n",
        "        data_format: The input format.\n",
        "    Returns:\n",
        "        A tensor with the same format as the input.\n",
        "    \"\"\"\n",
        "    pad_total = kernel_size - 1\n",
        "    pad_beg = pad_total // 2\n",
        "    pad_end = pad_total - pad_beg\n",
        "\n",
        "    if data_format == 'channels_first':\n",
        "        padded_inputs = tf.pad(inputs, [[0, 0], [0, 0],\n",
        "                                        [pad_beg, pad_end],\n",
        "                                        [pad_beg, pad_end]])\n",
        "    else:\n",
        "        padded_inputs = tf.pad(inputs, [[0, 0], [pad_beg, pad_end],\n",
        "                                        [pad_beg, pad_end], [0, 0]])\n",
        "    return padded_inputs\n",
        "\n",
        "\n",
        "def conv2d_fixed_padding(inputs, filters, kernel_size, data_format, strides=1):\n",
        "    \"\"\"Strided 2-D convolution with explicit padding.\"\"\"\n",
        "    if strides > 1:\n",
        "        inputs = fixed_padding(inputs, kernel_size, data_format)\n",
        "\n",
        "    return tf.layers.conv2d(\n",
        "        inputs=inputs, filters=filters, kernel_size=kernel_size,\n",
        "        strides=strides, padding=('SAME' if strides == 1 else 'VALID'),\n",
        "        use_bias=False, data_format=data_format)"
      ],
      "execution_count": null,
      "outputs": []
    },
    {
      "cell_type": "code",
      "metadata": {
        "id": "Ufuo80x4XZ1K"
      },
      "source": [
        "def darknet53_residual_block(inputs, filters, training, data_format,\n",
        "                             strides=1):\n",
        "    \"\"\"Creates a residual block for Darknet.\"\"\"\n",
        "    shortcut = inputs\n",
        "\n",
        "    inputs = conv2d_fixed_padding(\n",
        "        inputs, filters=filters, kernel_size=1, strides=strides,\n",
        "        data_format=data_format)\n",
        "    inputs = batch_norm(inputs, training=training, data_format=data_format)\n",
        "    inputs = tf.nn.leaky_relu(inputs, alpha=_LEAKY_RELU)\n",
        "\n",
        "    inputs = conv2d_fixed_padding(\n",
        "        inputs, filters=2 * filters, kernel_size=3, strides=strides,\n",
        "        data_format=data_format)\n",
        "    inputs = batch_norm(inputs, training=training, data_format=data_format)\n",
        "    inputs = tf.nn.leaky_relu(inputs, alpha=_LEAKY_RELU)\n",
        "\n",
        "    inputs += shortcut\n",
        "\n",
        "    return inputs\n",
        "\n",
        "\n",
        "def darknet53(inputs, training, data_format):\n",
        "    \"\"\"Creates Darknet53 model for feature extraction.\"\"\"\n",
        "    inputs = conv2d_fixed_padding(inputs, filters=32, kernel_size=3,\n",
        "                                  data_format=data_format)\n",
        "    inputs = batch_norm(inputs, training=training, data_format=data_format)\n",
        "    inputs = tf.nn.leaky_relu(inputs, alpha=_LEAKY_RELU)\n",
        "    inputs = conv2d_fixed_padding(inputs, filters=64, kernel_size=3,\n",
        "                                  strides=2, data_format=data_format)\n",
        "    inputs = batch_norm(inputs, training=training, data_format=data_format)\n",
        "    inputs = tf.nn.leaky_relu(inputs, alpha=_LEAKY_RELU)\n",
        "\n",
        "    inputs = darknet53_residual_block(inputs, filters=32, training=training,\n",
        "                                      data_format=data_format)\n",
        "\n",
        "    inputs = conv2d_fixed_padding(inputs, filters=128, kernel_size=3,\n",
        "                                  strides=2, data_format=data_format)\n",
        "    inputs = batch_norm(inputs, training=training, data_format=data_format)\n",
        "    inputs = tf.nn.leaky_relu(inputs, alpha=_LEAKY_RELU)\n",
        "\n",
        "    for _ in range(2):\n",
        "        inputs = darknet53_residual_block(inputs, filters=64,\n",
        "                                          training=training,\n",
        "                                          data_format=data_format)\n",
        "\n",
        "    inputs = conv2d_fixed_padding(inputs, filters=256, kernel_size=3,\n",
        "                                  strides=2, data_format=data_format)\n",
        "    inputs = batch_norm(inputs, training=training, data_format=data_format)\n",
        "    inputs = tf.nn.leaky_relu(inputs, alpha=_LEAKY_RELU)\n",
        "\n",
        "    for _ in range(8):\n",
        "        inputs = darknet53_residual_block(inputs, filters=128,\n",
        "                                          training=training,\n",
        "                                          data_format=data_format)\n",
        "\n",
        "    route1 = inputs\n",
        "\n",
        "    inputs = conv2d_fixed_padding(inputs, filters=512, kernel_size=3,\n",
        "                                  strides=2, data_format=data_format)\n",
        "    inputs = batch_norm(inputs, training=training, data_format=data_format)\n",
        "    inputs = tf.nn.leaky_relu(inputs, alpha=_LEAKY_RELU)\n",
        "\n",
        "    for _ in range(8):\n",
        "        inputs = darknet53_residual_block(inputs, filters=256,\n",
        "                                          training=training,\n",
        "                                          data_format=data_format)\n",
        "\n",
        "    route2 = inputs\n",
        "\n",
        "    inputs = conv2d_fixed_padding(inputs, filters=1024, kernel_size=3,\n",
        "                                  strides=2, data_format=data_format)\n",
        "    inputs = batch_norm(inputs, training=training, data_format=data_format)\n",
        "    inputs = tf.nn.leaky_relu(inputs, alpha=_LEAKY_RELU)\n",
        "\n",
        "    for _ in range(4):\n",
        "        inputs = darknet53_residual_block(inputs, filters=512,\n",
        "                                          training=training,\n",
        "                                          data_format=data_format)\n",
        "\n",
        "    return route1, route2, inputs"
      ],
      "execution_count": null,
      "outputs": []
    },
    {
      "cell_type": "code",
      "metadata": {
        "id": "qEeh1OcOXejQ"
      },
      "source": [
        "def yolo_convolution_block(inputs, filters, training, data_format):\n",
        "    \"\"\"Creates convolution operations layer used after Darknet.\"\"\"\n",
        "    inputs = conv2d_fixed_padding(inputs, filters=filters, kernel_size=1,\n",
        "                                  data_format=data_format)\n",
        "    inputs = batch_norm(inputs, training=training, data_format=data_format)\n",
        "    inputs = tf.nn.leaky_relu(inputs, alpha=_LEAKY_RELU)\n",
        "\n",
        "    inputs = conv2d_fixed_padding(inputs, filters=2 * filters, kernel_size=3,\n",
        "                                  data_format=data_format)\n",
        "    inputs = batch_norm(inputs, training=training, data_format=data_format)\n",
        "    inputs = tf.nn.leaky_relu(inputs, alpha=_LEAKY_RELU)\n",
        "\n",
        "    inputs = conv2d_fixed_padding(inputs, filters=filters, kernel_size=1,\n",
        "                                  data_format=data_format)\n",
        "    inputs = batch_norm(inputs, training=training, data_format=data_format)\n",
        "    inputs = tf.nn.leaky_relu(inputs, alpha=_LEAKY_RELU)\n",
        "\n",
        "    inputs = conv2d_fixed_padding(inputs, filters=2 * filters, kernel_size=3,\n",
        "                                  data_format=data_format)\n",
        "    inputs = batch_norm(inputs, training=training, data_format=data_format)\n",
        "    inputs = tf.nn.leaky_relu(inputs, alpha=_LEAKY_RELU)\n",
        "\n",
        "    inputs = conv2d_fixed_padding(inputs, filters=filters, kernel_size=1,\n",
        "                                  data_format=data_format)\n",
        "    inputs = batch_norm(inputs, training=training, data_format=data_format)\n",
        "    inputs = tf.nn.leaky_relu(inputs, alpha=_LEAKY_RELU)\n",
        "\n",
        "    route = inputs\n",
        "\n",
        "    inputs = conv2d_fixed_padding(inputs, filters=2 * filters, kernel_size=3,\n",
        "                                  data_format=data_format)\n",
        "    inputs = batch_norm(inputs, training=training, data_format=data_format)\n",
        "    inputs = tf.nn.leaky_relu(inputs, alpha=_LEAKY_RELU)\n",
        "\n",
        "    return route, inputs"
      ],
      "execution_count": null,
      "outputs": []
    },
    {
      "cell_type": "code",
      "metadata": {
        "id": "WGjzQAo6XiPL"
      },
      "source": [
        "def yolo_layer(inputs, n_classes, anchors, img_size, data_format):\n",
        "    \"\"\"Creates Yolo final detection layer.\n",
        "\n",
        "    Detects boxes with respect to anchors.\n",
        "\n",
        "    Args:\n",
        "        inputs: Tensor input.\n",
        "        n_classes: Number of labels.\n",
        "        anchors: A list of anchor sizes.\n",
        "        img_size: The input size of the model.\n",
        "        data_format: The input format.\n",
        "\n",
        "    Returns:\n",
        "        Tensor output.\n",
        "    \"\"\"\n",
        "    n_anchors = len(anchors)\n",
        "\n",
        "    inputs = tf.layers.conv2d(inputs, filters=n_anchors * (5 + n_classes),\n",
        "                              kernel_size=1, strides=1, use_bias=True,\n",
        "                              data_format=data_format)\n",
        "\n",
        "    shape = inputs.get_shape().as_list()\n",
        "    grid_shape = shape[2:4] if data_format == 'channels_first' else shape[1:3]\n",
        "    if data_format == 'channels_first':\n",
        "        inputs = tf.transpose(inputs, [0, 2, 3, 1])\n",
        "    inputs = tf.reshape(inputs, [-1, n_anchors * grid_shape[0] * grid_shape[1],\n",
        "                                 5 + n_classes])\n",
        "\n",
        "    strides = (img_size[0] // grid_shape[0], img_size[1] // grid_shape[1])\n",
        "\n",
        "    box_centers, box_shapes, confidence, classes = \\\n",
        "        tf.split(inputs, [2, 2, 1, n_classes], axis=-1)\n",
        "\n",
        "    x = tf.range(grid_shape[0], dtype=tf.float32)\n",
        "    y = tf.range(grid_shape[1], dtype=tf.float32)\n",
        "    x_offset, y_offset = tf.meshgrid(x, y)\n",
        "    x_offset = tf.reshape(x_offset, (-1, 1))\n",
        "    y_offset = tf.reshape(y_offset, (-1, 1))\n",
        "    x_y_offset = tf.concat([x_offset, y_offset], axis=-1)\n",
        "    x_y_offset = tf.tile(x_y_offset, [1, n_anchors])\n",
        "    x_y_offset = tf.reshape(x_y_offset, [1, -1, 2])\n",
        "    box_centers = tf.nn.sigmoid(box_centers)\n",
        "    box_centers = (box_centers + x_y_offset) * strides\n",
        "\n",
        "    anchors = tf.tile(anchors, [grid_shape[0] * grid_shape[1], 1])\n",
        "    box_shapes = tf.exp(box_shapes) * tf.to_float(anchors)\n",
        "\n",
        "    confidence = tf.nn.sigmoid(confidence)\n",
        "\n",
        "    classes = tf.nn.sigmoid(classes)\n",
        "\n",
        "    inputs = tf.concat([box_centers, box_shapes,\n",
        "                        confidence, classes], axis=-1)\n",
        "\n",
        "    return inputs"
      ],
      "execution_count": null,
      "outputs": []
    },
    {
      "cell_type": "code",
      "metadata": {
        "id": "BGh-FS3hXkrr"
      },
      "source": [
        "def upsample(inputs, out_shape, data_format):\n",
        "    \"\"\"Upsamples to `out_shape` using nearest neighbor interpolation.\"\"\"\n",
        "    if data_format == 'channels_first':\n",
        "        inputs = tf.transpose(inputs, [0, 2, 3, 1])\n",
        "        new_height = out_shape[3]\n",
        "        new_width = out_shape[2]\n",
        "    else:\n",
        "        new_height = out_shape[2]\n",
        "        new_width = out_shape[1]\n",
        "\n",
        "    inputs = tf.image.resize_nearest_neighbor(inputs, (new_height, new_width))\n",
        "\n",
        "    if data_format == 'channels_first':\n",
        "        inputs = tf.transpose(inputs, [0, 3, 1, 2])\n",
        "\n",
        "    return inputs"
      ],
      "execution_count": null,
      "outputs": []
    },
    {
      "cell_type": "code",
      "metadata": {
        "id": "znrzyRevXnBI"
      },
      "source": [
        "def build_boxes(inputs):\n",
        "    \"\"\"Computes top left and bottom right points of the boxes.\"\"\"\n",
        "    center_x, center_y, width, height, confidence, classes = \\\n",
        "        tf.split(inputs, [1, 1, 1, 1, 1, -1], axis=-1)\n",
        "\n",
        "    top_left_x = center_x - width / 2\n",
        "    top_left_y = center_y - height / 2\n",
        "    bottom_right_x = center_x + width / 2\n",
        "    bottom_right_y = center_y + height / 2\n",
        "\n",
        "    boxes = tf.concat([top_left_x, top_left_y,\n",
        "                       bottom_right_x, bottom_right_y,\n",
        "                       confidence, classes], axis=-1)\n",
        "\n",
        "    return boxes\n",
        "\n",
        "\n",
        "def non_max_suppression(inputs, n_classes, max_output_size, iou_threshold,\n",
        "                        confidence_threshold):\n",
        "    \"\"\"Performs non-max suppression separately for each class.\n",
        "\n",
        "    Args:\n",
        "        inputs: Tensor input.\n",
        "        n_classes: Number of classes.\n",
        "        max_output_size: Max number of boxes to be selected for each class.\n",
        "        iou_threshold: Threshold for the IOU.\n",
        "        confidence_threshold: Threshold for the confidence score.\n",
        "    Returns:\n",
        "        A list containing class-to-boxes dictionaries\n",
        "            for each sample in the batch.\n",
        "    \"\"\"\n",
        "    batch = tf.unstack(inputs)\n",
        "    boxes_dicts = []\n",
        "    for boxes in batch:\n",
        "        boxes = tf.boolean_mask(boxes, boxes[:, 4] > confidence_threshold)\n",
        "        classes = tf.argmax(boxes[:, 5:], axis=-1)\n",
        "        classes = tf.expand_dims(tf.to_float(classes), axis=-1)\n",
        "        boxes = tf.concat([boxes[:, :5], classes], axis=-1)\n",
        "\n",
        "        boxes_dict = dict()\n",
        "        for cls in range(n_classes):\n",
        "            mask = tf.equal(boxes[:, 5], cls)\n",
        "            mask_shape = mask.get_shape()\n",
        "            if mask_shape.ndims != 0:\n",
        "                class_boxes = tf.boolean_mask(boxes, mask)\n",
        "                boxes_coords, boxes_conf_scores, _ = tf.split(class_boxes,\n",
        "                                                              [4, 1, -1],\n",
        "                                                              axis=-1)\n",
        "                boxes_conf_scores = tf.reshape(boxes_conf_scores, [-1])\n",
        "                indices = tf.image.non_max_suppression(boxes_coords,\n",
        "                                                       boxes_conf_scores,\n",
        "                                                       max_output_size,\n",
        "                                                       iou_threshold)\n",
        "                class_boxes = tf.gather(class_boxes, indices)\n",
        "                boxes_dict[cls] = class_boxes[:, :5]\n",
        "\n",
        "        boxes_dicts.append(boxes_dict)\n",
        "\n",
        "    return boxes_dicts"
      ],
      "execution_count": null,
      "outputs": []
    },
    {
      "cell_type": "code",
      "metadata": {
        "id": "_uYYoYfXXpfj"
      },
      "source": [
        "class Yolo_v3:\n",
        "    \"\"\"Yolo v3 model class.\"\"\"\n",
        "\n",
        "    def __init__(self, n_classes, model_size, max_output_size, iou_threshold,\n",
        "                 confidence_threshold, data_format=None):\n",
        "        \"\"\"Creates the model.\n",
        "\n",
        "        Args:\n",
        "            n_classes: Number of class labels.\n",
        "            model_size: The input size of the model.\n",
        "            max_output_size: Max number of boxes to be selected for each class.\n",
        "            iou_threshold: Threshold for the IOU.\n",
        "            confidence_threshold: Threshold for the confidence score.\n",
        "            data_format: The input format.\n",
        "\n",
        "        Returns:\n",
        "            None.\n",
        "        \"\"\"\n",
        "        if not data_format:\n",
        "            if tf.test.is_built_with_cuda():\n",
        "                data_format = 'channels_first'\n",
        "            else:\n",
        "                data_format = 'channels_last'\n",
        "\n",
        "        self.n_classes = n_classes\n",
        "        self.model_size = model_size\n",
        "        self.max_output_size = max_output_size\n",
        "        self.iou_threshold = iou_threshold\n",
        "        self.confidence_threshold = confidence_threshold\n",
        "        self.data_format = data_format\n",
        "\n",
        "    def __call__(self, inputs, training):\n",
        "        \"\"\"Add operations to detect boxes for a batch of input images.\n",
        "\n",
        "        Args:\n",
        "            inputs: A Tensor representing a batch of input images.\n",
        "            training: A boolean, whether to use in training or inference mode.\n",
        "\n",
        "        Returns:\n",
        "            A list containing class-to-boxes dictionaries\n",
        "                for each sample in the batch.\n",
        "        \"\"\"\n",
        "        with tf.variable_scope('yolo_v3_model'):\n",
        "            if self.data_format == 'channels_first':\n",
        "                inputs = tf.transpose(inputs, [0, 3, 1, 2])\n",
        "\n",
        "            inputs = inputs / 255\n",
        "\n",
        "            route1, route2, inputs = darknet53(inputs, training=training,\n",
        "                                               data_format=self.data_format)\n",
        "\n",
        "            route, inputs = yolo_convolution_block(\n",
        "                inputs, filters=512, training=training,\n",
        "                data_format=self.data_format)\n",
        "            detect1 = yolo_layer(inputs, n_classes=self.n_classes,\n",
        "                                 anchors=_ANCHORS[6:9],\n",
        "                                 img_size=self.model_size,\n",
        "                                 data_format=self.data_format)\n",
        "\n",
        "            inputs = conv2d_fixed_padding(route, filters=256, kernel_size=1,\n",
        "                                          data_format=self.data_format)\n",
        "            inputs = batch_norm(inputs, training=training,\n",
        "                                data_format=self.data_format)\n",
        "            inputs = tf.nn.leaky_relu(inputs, alpha=_LEAKY_RELU)\n",
        "            upsample_size = route2.get_shape().as_list()\n",
        "            inputs = upsample(inputs, out_shape=upsample_size,\n",
        "                              data_format=self.data_format)\n",
        "            axis = 1 if self.data_format == 'channels_first' else 3\n",
        "            inputs = tf.concat([inputs, route2], axis=axis)\n",
        "            route, inputs = yolo_convolution_block(\n",
        "                inputs, filters=256, training=training,\n",
        "                data_format=self.data_format)\n",
        "            detect2 = yolo_layer(inputs, n_classes=self.n_classes,\n",
        "                                 anchors=_ANCHORS[3:6],\n",
        "                                 img_size=self.model_size,\n",
        "                                 data_format=self.data_format)\n",
        "\n",
        "            inputs = conv2d_fixed_padding(route, filters=128, kernel_size=1,\n",
        "                                          data_format=self.data_format)\n",
        "            inputs = batch_norm(inputs, training=training,\n",
        "                                data_format=self.data_format)\n",
        "            inputs = tf.nn.leaky_relu(inputs, alpha=_LEAKY_RELU)\n",
        "            upsample_size = route1.get_shape().as_list()\n",
        "            inputs = upsample(inputs, out_shape=upsample_size,\n",
        "                              data_format=self.data_format)\n",
        "            inputs = tf.concat([inputs, route1], axis=axis)\n",
        "            route, inputs = yolo_convolution_block(\n",
        "                inputs, filters=128, training=training,\n",
        "                data_format=self.data_format)\n",
        "            detect3 = yolo_layer(inputs, n_classes=self.n_classes,\n",
        "                                 anchors=_ANCHORS[0:3],\n",
        "                                 img_size=self.model_size,\n",
        "                                 data_format=self.data_format)\n",
        "\n",
        "            inputs = tf.concat([detect1, detect2, detect3], axis=1)\n",
        "\n",
        "            inputs = build_boxes(inputs)\n",
        "\n",
        "            boxes_dicts = non_max_suppression(\n",
        "                inputs, n_classes=self.n_classes,\n",
        "                max_output_size=self.max_output_size,\n",
        "                iou_threshold=self.iou_threshold,\n",
        "                confidence_threshold=self.confidence_threshold)\n",
        "\n",
        "            return boxes_dicts"
      ],
      "execution_count": null,
      "outputs": []
    },
    {
      "cell_type": "code",
      "metadata": {
        "id": "rl9OLQ_UXsnj"
      },
      "source": [
        "def load_images(img_names, model_size):\n",
        "    \"\"\"Loads images in a 4D array.\n",
        "\n",
        "    Args:\n",
        "        img_names: A list of images names.\n",
        "        model_size: The input size of the model.\n",
        "        data_format: A format for the array returned\n",
        "            ('channels_first' or 'channels_last').\n",
        "\n",
        "    Returns:\n",
        "        A 4D NumPy array.\n",
        "    \"\"\"\n",
        "    imgs = []\n",
        "\n",
        "    for img_name in img_names:\n",
        "        img = Image.open(img_name)\n",
        "        img = img.resize(size=model_size)\n",
        "        img = np.array(img, dtype=np.float32)\n",
        "        img = np.expand_dims(img, axis=0)\n",
        "        imgs.append(img)\n",
        "\n",
        "    imgs = np.concatenate(imgs)\n",
        "\n",
        "    return imgs\n",
        "\n",
        "\n",
        "def load_class_names(file_name):\n",
        "    \"\"\"Returns a list of class names read from `file_name`.\"\"\"\n",
        "    with open(file_name, 'r') as f:\n",
        "        class_names = f.read().splitlines()\n",
        "    return class_names\n",
        "\n",
        "\n",
        "def draw_boxes(img_names, boxes_dicts, class_names, model_size):\n",
        "    \"\"\"Draws detected boxes.\n",
        "\n",
        "    Args:\n",
        "        img_names: A list of input images names.\n",
        "        boxes_dict: A class-to-boxes dictionary.\n",
        "        class_names: A class names list.\n",
        "        model_size: The input size of the model.\n",
        "\n",
        "    Returns:\n",
        "        None.\n",
        "    \"\"\"\n",
        "    colors = ((np.array(color_palette(\"hls\", 80)) * 255)).astype(np.uint8)\n",
        "    for num, img_name, boxes_dict in zip(range(len(img_names)), img_names,\n",
        "                                         boxes_dicts):\n",
        "        img = Image.open(img_name)\n",
        "        draw = ImageDraw.Draw(img)\n",
        "        font = ImageFont.truetype(font='../input/futur.ttf',\n",
        "                                  size=(img.size[0] + img.size[1]) // 100)\n",
        "        resize_factor = \\\n",
        "            (img.size[0] / model_size[0], img.size[1] / model_size[1])\n",
        "        for cls in range(len(class_names)):\n",
        "            boxes = boxes_dict[cls]\n",
        "            if np.size(boxes) != 0:\n",
        "                color = colors[cls]\n",
        "                for box in boxes:\n",
        "                    xy, confidence = box[:4], box[4]\n",
        "                    xy = [xy[i] * resize_factor[i % 2] for i in range(4)]\n",
        "                    x0, y0 = xy[0], xy[1]\n",
        "                    thickness = (img.size[0] + img.size[1]) // 200\n",
        "                    for t in np.linspace(0, 1, thickness):\n",
        "                        xy[0], xy[1] = xy[0] + t, xy[1] + t\n",
        "                        xy[2], xy[3] = xy[2] - t, xy[3] - t\n",
        "                        draw.rectangle(xy, outline=tuple(color))\n",
        "                    text = '{} {:.1f}%'.format(class_names[cls],\n",
        "                                               confidence * 100)\n",
        "                    text_size = draw.textsize(text, font=font)\n",
        "                    draw.rectangle(\n",
        "                        [x0, y0 - text_size[1], x0 + text_size[0], y0],\n",
        "                        fill=tuple(color))\n",
        "                    draw.text((x0, y0 - text_size[1]), text, fill='black',\n",
        "                              font=font)\n",
        "\n",
        "        display(img)"
      ],
      "execution_count": null,
      "outputs": []
    },
    {
      "cell_type": "code",
      "metadata": {
        "id": "IGe2mhMsXu-i"
      },
      "source": [
        "def load_weights(variables, file_name):\n",
        "    \"\"\"Reshapes and loads official pretrained Yolo weights.\n",
        "\n",
        "    Args:\n",
        "        variables: A list of tf.Variable to be assigned.\n",
        "        file_name: A name of a file containing weights.\n",
        "\n",
        "    Returns:\n",
        "        A list of assign operations.\n",
        "    \"\"\"\n",
        "    with open(file_name, \"rb\") as f:\n",
        "        # Skip first 5 values containing irrelevant info\n",
        "        np.fromfile(f, dtype=np.int32, count=5)\n",
        "        weights = np.fromfile(f, dtype=np.float32)\n",
        "\n",
        "        assign_ops = []\n",
        "        ptr = 0\n",
        "\n",
        "        # Load weights for Darknet part.\n",
        "        # Each convolution layer has batch normalization.\n",
        "        for i in range(52):\n",
        "            conv_var = variables[5 * i]\n",
        "            gamma, beta, mean, variance = variables[5 * i + 1:5 * i + 5]\n",
        "            batch_norm_vars = [beta, gamma, mean, variance]\n",
        "\n",
        "            for var in batch_norm_vars:\n",
        "                shape = var.shape.as_list()\n",
        "                num_params = np.prod(shape)\n",
        "                var_weights = weights[ptr:ptr + num_params].reshape(shape)\n",
        "                ptr += num_params\n",
        "                assign_ops.append(tf.assign(var, var_weights))\n",
        "\n",
        "            shape = conv_var.shape.as_list()\n",
        "            num_params = np.prod(shape)\n",
        "            var_weights = weights[ptr:ptr + num_params].reshape(\n",
        "                (shape[3], shape[2], shape[0], shape[1]))\n",
        "            var_weights = np.transpose(var_weights, (2, 3, 1, 0))\n",
        "            ptr += num_params\n",
        "            assign_ops.append(tf.assign(conv_var, var_weights))\n",
        "\n",
        "        # Loading weights for Yolo part.\n",
        "        # 7th, 15th and 23rd convolution layer has biases and no batch norm.\n",
        "        ranges = [range(0, 6), range(6, 13), range(13, 20)]\n",
        "        unnormalized = [6, 13, 20]\n",
        "        for j in range(3):\n",
        "            for i in ranges[j]:\n",
        "                current = 52 * 5 + 5 * i + j * 2\n",
        "                conv_var = variables[current]\n",
        "                gamma, beta, mean, variance =  \\\n",
        "                    variables[current + 1:current + 5]\n",
        "                batch_norm_vars = [beta, gamma, mean, variance]\n",
        "\n",
        "                for var in batch_norm_vars:\n",
        "                    shape = var.shape.as_list()\n",
        "                    num_params = np.prod(shape)\n",
        "                    var_weights = weights[ptr:ptr + num_params].reshape(shape)\n",
        "                    ptr += num_params\n",
        "                    assign_ops.append(tf.assign(var, var_weights))\n",
        "\n",
        "                shape = conv_var.shape.as_list()\n",
        "                num_params = np.prod(shape)\n",
        "                var_weights = weights[ptr:ptr + num_params].reshape(\n",
        "                    (shape[3], shape[2], shape[0], shape[1]))\n",
        "                var_weights = np.transpose(var_weights, (2, 3, 1, 0))\n",
        "                ptr += num_params\n",
        "                assign_ops.append(tf.assign(conv_var, var_weights))\n",
        "\n",
        "            bias = variables[52 * 5 + unnormalized[j] * 5 + j * 2 + 1]\n",
        "            shape = bias.shape.as_list()\n",
        "            num_params = np.prod(shape)\n",
        "            var_weights = weights[ptr:ptr + num_params].reshape(shape)\n",
        "            ptr += num_params\n",
        "            assign_ops.append(tf.assign(bias, var_weights))\n",
        "\n",
        "            conv_var = variables[52 * 5 + unnormalized[j] * 5 + j * 2]\n",
        "            shape = conv_var.shape.as_list()\n",
        "            num_params = np.prod(shape)\n",
        "            var_weights = weights[ptr:ptr + num_params].reshape(\n",
        "                (shape[3], shape[2], shape[0], shape[1]))\n",
        "            var_weights = np.transpose(var_weights, (2, 3, 1, 0))\n",
        "            ptr += num_params\n",
        "            assign_ops.append(tf.assign(conv_var, var_weights))\n",
        "\n",
        "    return assign_ops"
      ],
      "execution_count": null,
      "outputs": []
    },
    {
      "cell_type": "code",
      "metadata": {
        "colab": {
          "base_uri": "https://localhost:8080/",
          "height": 258
        },
        "id": "V0_ReU4JXznz",
        "outputId": "94d7b794-9522-4387-cb45-cf9d79f277f3"
      },
      "source": [
        "img_names = ['/content/drive/MyDrive/Colab Notebooks/Data/lime_test.png']\n",
        "for img in img_names: display(Image.open(img))"
      ],
      "execution_count": null,
      "outputs": [
        {
          "output_type": "display_data",
          "data": {
            "image/png": "[encoded data removed]",
            "text/plain": [
              "<PIL.PngImagePlugin.PngImageFile image mode=RGBA size=246x241 at 0x7F64E12F8B50>"
            ]
          },
          "metadata": {}
        }
      ]
    },
    {
      "cell_type": "code",
      "metadata": {
        "colab": {
          "base_uri": "https://localhost:8080/"
        },
        "id": "rl0Lko4YZHcJ",
        "outputId": "6ba44eea-7937-4769-970c-673c591a47a5"
      },
      "source": [
        "import tensorflow.compat.v1 as tf\n",
        "tf.disable_v2_behavior()"
      ],
      "execution_count": null,
      "outputs": [
        {
          "output_type": "stream",
          "name": "stdout",
          "text": [
            "WARNING:tensorflow:From /usr/local/lib/python3.7/dist-packages/tensorflow/python/compat/v2_compat.py:101: disable_resource_variables (from tensorflow.python.ops.variable_scope) is deprecated and will be removed in a future version.\n",
            "Instructions for updating:\n",
            "non-resource variables are not supported in the long term\n"
          ]
        }
      ]
    },
    {
      "cell_type": "code",
      "metadata": {
        "id": "7ryezkGGX22u"
      },
      "source": [
        "batch_size = len(img_names)\n",
        "batch = load_images(img_names, model_size=_MODEL_SIZE)\n",
        "class_names = load_class_names('/content/drive/MyDrive/Colab Notebooks/Data/Yolo/files/coco.names')\n",
        "n_classes = len(class_names)\n",
        "max_output_size = 10\n",
        "iou_threshold = 0.5\n",
        "confidence_threshold = 0.5\n",
        "\n",
        "model = Yolo_v3(n_classes=n_classes, model_size=_MODEL_SIZE,\n",
        "                max_output_size=max_output_size,\n",
        "                iou_threshold=iou_threshold,\n",
        "                confidence_threshold=confidence_threshold)\n",
        "\n",
        "tf.reset_default_graph()\n",
        "inputs = tf.placeholder(tf.float32, [batch_size, 416, 416, 3])\n",
        "\n",
        "detections = model(inputs, training=False)\n",
        "\n",
        "model_vars = tf.global_variables(scope='/content/drive/MyDrive/Colab Notebooks/Data/Yolo/files/yolo_v3_model')\n",
        "assign_ops = load_weights(model_vars, '/content/drive/MyDrive/Colab Notebooks/Data/Yolo/files/yolov3.weights')\n",
        "\n",
        "with tf.Session() as sess:\n",
        "    #sess.run(assign_ops)\n",
        "    detection_result = sess.run(detections, feed_dict={inputs: batch})\n",
        "    \n",
        "draw_boxes(img_names, detection_result, class_names, _MODEL_SIZE)"
      ],
      "execution_count": null,
      "outputs": []
    },
    {
      "cell_type": "markdown",
      "metadata": {
        "id": "QddhxGTey7bS"
      },
      "source": [
        "placeholder"
      ]
    },
    {
      "cell_type": "markdown",
      "metadata": {
        "id": "rW1resFpUMEl"
      },
      "source": [
        "# Exploring CV2"
      ]
    },
    {
      "cell_type": "code",
      "metadata": {
        "id": "xiFPLeh4UWr0"
      },
      "source": [
        "import cv2\n",
        "import numpy as np\n",
        "from matplotlib import pyplot as plt"
      ],
      "execution_count": null,
      "outputs": []
    },
    {
      "cell_type": "code",
      "metadata": {
        "id": "5xCKnTU9y9TE"
      },
      "source": [
        "img = cv2.imread('/content/drive/MyDrive/Colab Notebooks/Data/lime_test_3.png')\n",
        "imgGry = cv2.cvtColor(img, cv2.COLOR_BGR2GRAY)\n",
        "\n",
        "ret, thrash = cv2.threshold(imgGry, 240 , 255, cv2.CHAIN_APPROX_NONE)\n",
        "contours , hierarchy = cv2.findContours(thrash, cv2.RETR_TREE, cv2.CHAIN_APPROX_NONE)"
      ],
      "execution_count": null,
      "outputs": []
    },
    {
      "cell_type": "code",
      "metadata": {
        "id": "2DbFMz_19yAw"
      },
      "source": [
        "from PIL import Image, ImageOps\n",
        "img = Image.open('/content/drive/MyDrive/Colab Notebooks/Data/lime_test_5.png')\n",
        "img_with_border = ImageOps.expand(img, border=1,fill='black')\n",
        "img_with_border.save('/content/drive/MyDrive/Colab Notebooks/Data/lime_test_5_border.png')"
      ],
      "execution_count": null,
      "outputs": []
    },
    {
      "cell_type": "code",
      "metadata": {
        "colab": {
          "base_uri": "https://localhost:8080/",
          "height": 286
        },
        "id": "OEgNZxTqzQcy",
        "outputId": "8b685ea6-4646-4493-8852-5a35fefa6514"
      },
      "source": [
        "# import the required library\n",
        "import numpy as np\n",
        "import cv2\n",
        "from matplotlib import pyplot as plt\n",
        "  \n",
        "  \n",
        "# read the image\n",
        "img = cv2.imread('/content/drive/MyDrive/Colab Notebooks/Data/lime_test_4.png')\n",
        " \n",
        "# convert image to gray scale image\n",
        "gray = cv2.cvtColor(img, cv2.COLOR_BGR2GRAY)\n",
        "  \n",
        "# detect corners with the goodFeaturesToTrack function.\n",
        "corners = cv2.goodFeaturesToTrack(gray, 100, 0.01, 1)\n",
        "corners = np.int0(corners)\n",
        "  \n",
        "# we iterate through each corner, \n",
        "# making a circle at each point that we think is a corner.\n",
        "X_list = []\n",
        "Y_list = []\n",
        "for i in corners:\n",
        "    x, y = i.ravel()\n",
        "    X_list.append(x)\n",
        "    Y_list.append(y)\n",
        "    cv2.circle(img, (x, y), 3, 255, -1)\n",
        "  \n",
        "plt.imshow(img), plt.show()\n"
      ],
      "execution_count": null,
      "outputs": [
        {
          "output_type": "display_data",
          "data": {
            "image/png": "[encoded data removed]",
            "text/plain": [
              "<Figure size 432x288 with 1 Axes>"
            ]
          },
          "metadata": {
            "needs_background": "light"
          }
        },
        {
          "output_type": "execute_result",
          "data": {
            "text/plain": [
              "(<matplotlib.image.AxesImage at 0x7fe1c081a2d0>, None)"
            ]
          },
          "metadata": {},
          "execution_count": 71
        }
      ]
    },
    {
      "cell_type": "markdown",
      "metadata": {
        "id": "ZqIJlAmb6tI2"
      },
      "source": [
        ""
      ]
    },
    {
      "cell_type": "code",
      "metadata": {
        "id": "9lrismEw6v5X"
      },
      "source": [
        "'''\n",
        "x1,y1 ------\n",
        "|          |\n",
        "|          |\n",
        "|          |\n",
        "--------x2,y2\n",
        "\n",
        "'''"
      ],
      "execution_count": null,
      "outputs": []
    },
    {
      "cell_type": "code",
      "metadata": {
        "colab": {
          "base_uri": "https://localhost:8080/",
          "height": 286
        },
        "id": "hhXNUuyU6HlJ",
        "outputId": "20544d88-47e4-44f5-fefc-cac2d643e953"
      },
      "source": [
        "#img = ImageOps.crop(img,border=10)\n",
        "x1 = min(X_list)\n",
        "x2 = max(X_list)\n",
        "y1 = max(Y_list)\n",
        "y2 = min(Y_list)\n",
        "cv2.rectangle(img, (x1, y1), (x2, y2), (256,0,0), 2)\n",
        "plt.imshow(img), plt.show()\n",
        "print(x1,x2,y1,y2)\n",
        "boxA = [x1,x2,y1,y2]"
      ],
      "execution_count": null,
      "outputs": [
        {
          "output_type": "display_data",
          "data": {
            "image/png": "[encoded data removed]",
            "text/plain": [
              "<Figure size 432x288 with 1 Axes>"
            ]
          },
          "metadata": {
            "needs_background": "light"
          }
        },
        {
          "output_type": "stream",
          "name": "stdout",
          "text": [
            "41 67 136 109\n"
          ]
        }
      ]
    },
    {
      "cell_type": "code",
      "metadata": {
        "id": "RSPc0FOgEnO3"
      },
      "source": [
        "#'x_min', 'y_min', 'x_max', 'y_max'\n",
        "x1 = 18\n",
        "y2 = 156\n",
        "x2 = 98\n",
        "y1 = 198"
      ],
      "execution_count": null,
      "outputs": []
    },
    {
      "cell_type": "code",
      "metadata": {
        "colab": {
          "base_uri": "https://localhost:8080/",
          "height": 286
        },
        "id": "HgkmfR8O6RUx",
        "outputId": "f329fe12-3eb0-4179-b864-d806873fc413"
      },
      "source": [
        "cv2.rectangle(img, (x1, y1), (x2, y2), (0,256,0), 2)\n",
        "plt.imshow(img), plt.show()"
      ],
      "execution_count": null,
      "outputs": [
        {
          "output_type": "display_data",
          "data": {
            "image/png": "[encoded data removed]",
            "text/plain": [
              "<Figure size 432x288 with 1 Axes>"
            ]
          },
          "metadata": {
            "needs_background": "light"
          }
        },
        {
          "output_type": "execute_result",
          "data": {
            "text/plain": [
              "(<matplotlib.image.AxesImage at 0x7fe1c097e550>, None)"
            ]
          },
          "metadata": {},
          "execution_count": 66
        }
      ]
    },
    {
      "cell_type": "code",
      "metadata": {
        "id": "bfkxPonlK1rm"
      },
      "source": [
        "boxB = [x1,x2,y1,y2]\n"
      ],
      "execution_count": null,
      "outputs": []
    },
    {
      "cell_type": "markdown",
      "metadata": {
        "id": "zsLFpltYUh30"
      },
      "source": [
        "# IoU"
      ]
    },
    {
      "cell_type": "code",
      "metadata": {
        "id": "FNaY2UkS6nbK"
      },
      "source": [
        "def bb_intersection_over_union(boxA, boxB):\n",
        "\t# determine the (x, y)-coordinates of the intersection rectangle\n",
        "\txA = max(boxA[0], boxB[0])\n",
        "\tyA = max(boxA[1], boxB[1])\n",
        "\txB = min(boxA[2], boxB[2])\n",
        "\tyB = min(boxA[3], boxB[3])\n",
        "\t# compute the area of intersection rectangle\n",
        "\tinterArea = max(0, xB - xA + 1) * max(0, yB - yA + 1)\n",
        "\t# compute the area of both the prediction and ground-truth\n",
        "\t# rectangles\n",
        "\tboxAArea = (boxA[2] - boxA[0] + 1) * (boxA[3] - boxA[1] + 1)\n",
        "\tboxBArea = (boxB[2] - boxB[0] + 1) * (boxB[3] - boxB[1] + 1)\n",
        "\t# compute the intersection over union by taking the intersection\n",
        "\t# area and dividing it by the sum of prediction + ground-truth\n",
        "\t# areas - the interesection area\n",
        "\tiou = interArea / float(boxAArea + boxBArea - interArea)\n",
        "\t# return the intersection over union value\n",
        "\treturn iou"
      ],
      "execution_count": null,
      "outputs": []
    },
    {
      "cell_type": "code",
      "metadata": {
        "colab": {
          "base_uri": "https://localhost:8080/"
        },
        "id": "xmm2OyvLLHKb",
        "outputId": "ee55b037-2faa-4436-f98d-68344d84d8b1"
      },
      "source": [
        "bb_intersection_over_union(boxA,boxB)"
      ],
      "execution_count": null,
      "outputs": [
        {
          "output_type": "execute_result",
          "data": {
            "text/plain": [
              "0.19074383068411346"
            ]
          },
          "metadata": {},
          "execution_count": 60
        }
      ]
    },
    {
      "cell_type": "markdown",
      "metadata": {
        "id": "4lO9SNoNUsxM"
      },
      "source": [
        "# CV2 contour"
      ]
    },
    {
      "cell_type": "code",
      "metadata": {
        "id": "Ni2XrcJ2tqI_"
      },
      "source": [
        "from __future__ import print_function\n",
        "import cv2 as cv\n",
        "import numpy as np\n",
        "import argparse\n",
        "import random as rng\n"
      ],
      "execution_count": null,
      "outputs": []
    },
    {
      "cell_type": "code",
      "metadata": {
        "colab": {
          "base_uri": "https://localhost:8080/",
          "height": 269
        },
        "id": "zuP5mNoTzzpJ",
        "outputId": "d6cc79c9-b7f8-428b-91e8-751fbf9d5cf5"
      },
      "source": [
        "# read the image\n",
        "image = cv2.imread('/content/drive/MyDrive/Colab Notebooks/Data/lime_test_3.png')\n",
        "# convert to RGB\n",
        "#image = cv2.cvtColor(image, cv2.COLOR_BGR2RGB)\n",
        "# convert to grayscale\n",
        "gray = cv2.cvtColor(image, cv2.COLOR_RGB2GRAY)\n",
        "# create a binary thresholded image\n",
        "_, binary = cv2.threshold(image, 225, 255, cv2.THRESH_BINARY_INV)\n",
        "# show it\n",
        "plt.imshow(binary, cmap=\"gray\")\n",
        "plt.show()"
      ],
      "execution_count": null,
      "outputs": [
        {
          "output_type": "display_data",
          "data": {
            "image/png": "[encoded data removed]",
            "text/plain": [
              "<Figure size 432x288 with 1 Axes>"
            ]
          },
          "metadata": {
            "needs_background": "light"
          }
        }
      ]
    },
    {
      "cell_type": "code",
      "metadata": {
        "id": "kKH01_Ka0DV6"
      },
      "source": [
        "# find the contours from the thresholded image\n",
        "contours, hierarchy = cv2.findContours(binary, cv2.RETR_TREE, cv2.CHAIN_APPROX_SIMPLE)\n",
        "# draw all contours\n",
        "image = cv2.drawContours(image, contours, -1, (0, 255, 0), 2)"
      ],
      "execution_count": null,
      "outputs": []
    },
    {
      "cell_type": "code",
      "metadata": {
        "colab": {
          "base_uri": "https://localhost:8080/",
          "height": 269
        },
        "id": "DcjYbZ8t0GvJ",
        "outputId": "cf1cb84d-1833-4cc3-b30f-bd996ff2e40c"
      },
      "source": [
        "# show the image with the drawn contours\n",
        "plt.imshow(image)\n",
        "plt.show()"
      ],
      "execution_count": null,
      "outputs": [
        {
          "output_type": "display_data",
          "data": {
            "image/png": "[encoded data removed]",
            "text/plain": [
              "<Figure size 432x288 with 1 Axes>"
            ]
          },
          "metadata": {
            "needs_background": "light"
          }
        }
      ]
    }
  ]
}